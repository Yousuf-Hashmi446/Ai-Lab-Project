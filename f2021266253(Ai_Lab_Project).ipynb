{
  "nbformat": 4,
  "nbformat_minor": 0,
  "metadata": {
    "colab": {
      "provenance": []
    },
    "kernelspec": {
      "name": "python3",
      "display_name": "Python 3"
    },
    "language_info": {
      "name": "python"
    }
  },
  "cells": [
    {
      "source": [
        "import pandas as pd\n",
        "import numpy as np\n",
        "import matplotlib.pyplot as plt\n",
        "from sklearn.feature_extraction.text import CountVectorizer\n",
        "from sklearn.naive_bayes import MultinomialNB\n",
        "import joblib\n",
        "\n",
        "# Load the dataset\n",
        "file_path = '/content/drive/MyDrive/Softwares.csv'\n",
        "df = pd.read_csv(file_path)\n",
        "\n",
        "# Clean the dataset\n",
        "df_clean = df.dropna(subset=['City', 'Company Name']).copy()  # Use .copy() to avoid SettingWithCopyWarning\n",
        "\n",
        "\n"
      ],
      "cell_type": "code",
      "metadata": {
        "id": "m6sZHY5v3m7B"
      },
      "execution_count": null,
      "outputs": []
    }
  ]
}